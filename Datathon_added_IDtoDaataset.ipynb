{
  "nbformat": 4,
  "nbformat_minor": 0,
  "metadata": {
    "colab": {
      "provenance": [],
      "authorship_tag": "ABX9TyPs0Jr+4JgXQOOWoam4HZxL",
      "include_colab_link": true
    },
    "kernelspec": {
      "name": "python3",
      "display_name": "Python 3"
    },
    "language_info": {
      "name": "python"
    }
  },
  "cells": [
    {
      "cell_type": "markdown",
      "metadata": {
        "id": "view-in-github",
        "colab_type": "text"
      },
      "source": [
        "<a href=\"https://colab.research.google.com/github/IdaWiweka/datathon/blob/IdaWiweka/Datathon_added_IDtoDaataset.ipynb\" target=\"_parent\"><img src=\"https://colab.research.google.com/assets/colab-badge.svg\" alt=\"Open In Colab\"/></a>"
      ]
    },
    {
      "cell_type": "code",
      "source": [
        "from google.colab import drive\n",
        "drive.mount('/content/drive')\n"
      ],
      "metadata": {
        "colab": {
          "base_uri": "https://localhost:8080/"
        },
        "id": "Uv6e30qD22QX",
        "outputId": "e3b3c71f-0ee7-4099-b1bb-aab0fdcd5a4c"
      },
      "execution_count": 6,
      "outputs": [
        {
          "output_type": "stream",
          "name": "stdout",
          "text": [
            "Drive already mounted at /content/drive; to attempt to forcibly remount, call drive.mount(\"/content/drive\", force_remount=True).\n"
          ]
        }
      ]
    },
    {
      "cell_type": "code",
      "execution_count": 10,
      "metadata": {
        "colab": {
          "base_uri": "https://localhost:8080/"
        },
        "id": "9Ql3fRwavrod",
        "outputId": "7e8a4149-59b5-49d6-be72-2463fde2478a"
      },
      "outputs": [
        {
          "output_type": "stream",
          "name": "stdout",
          "text": [
            "DataFrame has been saved to 'csv'\n"
          ]
        }
      ],
      "source": [
        "import pandas as pd\n",
        "from google.colab import files\n",
        "\n",
        "# GitHub raw URL for the CSV file\n",
        "url = \"https://raw.githubusercontent.com/CBDRH/hds-datathon-data/refs/heads/main/release/epiwatch-latest.csv\"\n",
        "\n",
        "# Correct file_path to include a file name\n",
        "file_path = '/content/drive/My Drive/processed_batches/Dataset_id/epiwatch-latest.csv'\n",
        "\n",
        "# Read the CSV file from the URL into a pandas DataFrame\n",
        "data = pd.read_csv(url)\n",
        "\n",
        "# Add a new column with the row index numbers (if needed)\n",
        "data['report_id'] = range(1, len(data) + 1)\n",
        "\n",
        "# Save and download the file\n",
        "data.to_csv(file_path, index=False)\n",
        "\n",
        "print(\"DataFrame has been saved to 'csv'\")"
      ]
    },
    {
      "cell_type": "code",
      "source": [
        "# Correct file_path to include a file name\n",
        "file_path = '/content/drive/My Drive/processed_batches/Dataset_id/epiwatch-latest.csv'\n",
        "\n",
        "# Read the CSV file from the URL into a pandas DataFrame\n",
        "df = pd.read_csv(file_path)\n",
        "print(df)"
      ],
      "metadata": {
        "colab": {
          "base_uri": "https://localhost:8080/"
        },
        "id": "IHv8XNs-9bVc",
        "outputId": "f417a224-ffe9-4c36-8277-a0095bf0bc5c"
      },
      "execution_count": 14,
      "outputs": [
        {
          "output_type": "stream",
          "name": "stdout",
          "text": [
            "                                                   title publication-date  \\\n",
            "0      90123 people sick in one day in the country; D...       2020-09-16   \n",
            "1            Ludhiana District remains at receiving end;       2020-09-16   \n",
            "2      CIDRAP - India's COVID-19 total tops 5 million...       2020-09-16   \n",
            "3      [Myarklamiss.com] LOUISIANA - State reports 42...       2020-09-15   \n",
            "4      [1010 WINS] NEW JERSEY - New Jersey reports 9 ...       2020-09-15   \n",
            "...                                                  ...              ...   \n",
            "44094  Florida reports 1st local dengue fever case of...       2023-02-09   \n",
            "44095  FLORIDA - Florida Reports 1st Local Dengue Fev...       2023-02-09   \n",
            "44096  NEW JERSEY - N.J Reports 1371 COVID Cases - 12...       2023-02-09   \n",
            "44097  RUSSIA - Russia Registers 12301 New Cases Of C...       2023-02-09   \n",
            "44098  HAWAII - Hawaii Reports 8 COVID Deaths - Over ...       2023-02-08   \n",
            "\n",
            "       event-date             country                    location  \\\n",
            "0      2017-09-16               India                         NaN   \n",
            "1      2020-09-16               India  Punjab, Ludhiana, Ludhiana   \n",
            "2      2020-09-16               India                         NaN   \n",
            "3      2020-09-15       United States                   Louisiana   \n",
            "4      2020-09-15       United States                  New Jersey   \n",
            "...           ...                 ...                         ...   \n",
            "44094         NaN       United States                          FL   \n",
            "44095         NaN       United States                         NaN   \n",
            "44096         NaN       United States                  New Jersey   \n",
            "44097         NaN  Russian Federation                         NaN   \n",
            "44098         NaN       United States                      Hawaii   \n",
            "\n",
            "              lat_long diseases                          syndromes  \\\n",
            "0       23.379, 79.443  covid19                                NaN   \n",
            "1       30.907, 75.849    other  severe acute respiratory syndrome   \n",
            "2       23.379, 79.443  covid19                                NaN   \n",
            "3      30.186, -91.426  covid19                                NaN   \n",
            "4      39.613, -74.729  covid19                                NaN   \n",
            "...                ...      ...                                ...   \n",
            "44094  28.661, -82.486   dengue                                NaN   \n",
            "44095              NaN   dengue                                NaN   \n",
            "44096              NaN  covid19                                NaN   \n",
            "44097              NaN  covid19                                NaN   \n",
            "44098              NaN  covid19                                NaN   \n",
            "\n",
            "                                                     url  report_id  \n",
            "0      https://www.manoramaonline.com/news/latest-new...          1  \n",
            "1      https://www.tribuneindia.com/news/ludhiana/lud...          2  \n",
            "2      https://flutrackers.com/forum/forum/local-regi...          3  \n",
            "3      http://outbreaks.globalincidentmap.com/eventde...          4  \n",
            "4      http://outbreaks.globalincidentmap.com/eventde...          5  \n",
            "...                                                  ...        ...  \n",
            "44094  http://outbreaknewstoday.com/florida-reports-1...      44095  \n",
            "44095  http://outbreaks.globalincidentmap.com/event_d...      44096  \n",
            "44096  http://outbreaks.globalincidentmap.com/event_d...      44097  \n",
            "44097  http://outbreaks.globalincidentmap.com/event_d...      44098  \n",
            "44098  http://outbreaks.globalincidentmap.com/event_d...      44099  \n",
            "\n",
            "[44099 rows x 10 columns]\n"
          ]
        }
      ]
    },
    {
      "cell_type": "markdown",
      "source": [
        "1. First dataset: last report_id: 44099"
      ],
      "metadata": {
        "id": "LcqlRwpa92Nn"
      }
    }
  ]
}